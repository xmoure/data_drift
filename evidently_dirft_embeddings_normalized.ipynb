{
 "cells": [
  {
   "cell_type": "code",
   "execution_count": 290,
   "metadata": {},
   "outputs": [],
   "source": [
    "import numpy as np\n",
    "from evidently.metrics import EmbeddingsDriftMetric, Comment\n",
    "from evidently.report import Report\n",
    "from evidently.metrics.data_drift.embedding_drift_methods import model, ratio, mmd\n",
    "import pickle\n",
    "import pandas as pd\n",
    "from evidently import ColumnMapping\n",
    "from sklearn.preprocessing import StandardScaler, MinMaxScaler, normalize\n",
    "from tensorflow.keras.models import load_model"
   ]
  },
  {
   "cell_type": "code",
   "execution_count": 291,
   "metadata": {},
   "outputs": [],
   "source": [
    "import mlflow\n",
    "import mlflow.sklearn\n",
    "from mlflow.tracking import MlflowClient"
   ]
  },
  {
   "cell_type": "code",
   "execution_count": 292,
   "metadata": {},
   "outputs": [],
   "source": [
    "from deepchecks.vision import classification_dataset_from_directory\n",
    "import json\n",
    "import matplotlib.pyplot as plt\n",
    "from deepchecks.vision.suites import full_suite\n",
    "from deepchecks.vision.suites import full_suite"
   ]
  },
  {
   "cell_type": "code",
   "execution_count": 293,
   "metadata": {},
   "outputs": [],
   "source": [
    "client = MlflowClient()"
   ]
  },
  {
   "cell_type": "code",
   "execution_count": 294,
   "metadata": {},
   "outputs": [
    {
     "data": {
      "text/plain": [
       "<Experiment: artifact_location='file:///Users/ximenamoure/Desktop/drift_last/mlruns/324168497884912629', creation_time=1726150198924, experiment_id='324168497884912629', last_update_time=1726150198924, lifecycle_stage='active', name='Drift Analysis using normalized embeddings extracted from autoencoder v3', tags={}>"
      ]
     },
     "execution_count": 294,
     "metadata": {},
     "output_type": "execute_result"
    }
   ],
   "source": [
    "#set experiment\n",
    "mlflow.set_experiment('Drift Analysis using normalized embeddings extracted from autoencoder v3')"
   ]
  },
  {
   "cell_type": "code",
   "execution_count": 295,
   "metadata": {},
   "outputs": [],
   "source": [
    "reference_split_name = \"SPLIT5(ref)\"\n",
    "current_split_name = \"SPLIT5_transformed_10_aut\"\n",
    "file_name = 'embs_normalized_drift_s5_vs_s5_transf_10_enc.html'\n",
    "full_path = '/Users/ximenamoure/Desktop/drift_last/drift_reports/autoencoder_v3'"
   ]
  },
  {
   "cell_type": "code",
   "execution_count": null,
   "metadata": {},
   "outputs": [],
   "source": []
  },
  {
   "cell_type": "code",
   "execution_count": 296,
   "metadata": {},
   "outputs": [
    {
     "data": {
      "text/plain": [
       "' # Deepchecks \\ndataset_path1 = \\'/Users/ximenamoure/Desktop/drift_last/reference_dataset\\'\\ndataset_path2 = \\'/Users/ximenamoure/Chess-Piece-Classification-Dataset/images/processed/occupancy/split4\\'\\n# Save the suite results as an HTML file with detailed information\\nhtml_path = \\'drift_check_results_s5_vs_s4_deepchecks.html\\'\\ntrain_ds_name = \"Split5\"\\ntest_ds_name = \"Split4\" '"
      ]
     },
     "execution_count": 296,
     "metadata": {},
     "output_type": "execute_result"
    }
   ],
   "source": [
    "\"\"\" # Deepchecks \n",
    "dataset_path1 = '/Users/ximenamoure/Desktop/drift_last/reference_dataset'\n",
    "dataset_path2 = '/Users/ximenamoure/Chess-Piece-Classification-Dataset/images/processed/occupancy/split4'\n",
    "# Save the suite results as an HTML file with detailed information\n",
    "html_path = 'drift_check_results_s5_vs_s4_deepchecks.html'\n",
    "train_ds_name = \"Split5\"\n",
    "test_ds_name = \"Split4\" \"\"\""
   ]
  },
  {
   "cell_type": "code",
   "execution_count": 297,
   "metadata": {},
   "outputs": [],
   "source": [
    "# Load embeddings from .pkl files\n",
    "with open(\"/Users/ximenamoure/Desktop/drift_last/embeddings_autoencoder_v3/x_ref_embeddings_autov3.pkl\", \"rb\") as f:\n",
    "    embeddings_train = pickle.load(f)\n"
   ]
  },
  {
   "cell_type": "code",
   "execution_count": 298,
   "metadata": {},
   "outputs": [],
   "source": [
    "with open(\"/Users/ximenamoure/Desktop/drift_last/embeddings_autoencoder_v3/ref_embeddings_autov3_10_trans.pkl\", \"rb\") as f:\n",
    "    embeddings_test = pickle.load(f)"
   ]
  },
  {
   "cell_type": "code",
   "execution_count": 299,
   "metadata": {},
   "outputs": [
    {
     "data": {
      "text/plain": [
       "' # Load embeddings from .npy files\\nembeddings_train = np.load(\"/Users/ximenamoure/Desktop/drift_last/production_model_features_last/reference/reference_features.npy\")\\nembeddings_test = np.load(\"/Users/ximenamoure/Desktop/drift_last/production_model_features_last/ref_features_prod_model_20tra_.npy\") '"
      ]
     },
     "execution_count": 299,
     "metadata": {},
     "output_type": "execute_result"
    }
   ],
   "source": [
    "\"\"\" # Load embeddings from .npy files\n",
    "embeddings_train = np.load(\"/Users/ximenamoure/Desktop/drift_last/production_model_features_last/reference/reference_features.npy\")\n",
    "embeddings_test = np.load(\"/Users/ximenamoure/Desktop/drift_last/production_model_features_last/ref_features_prod_model_20tra_.npy\") \"\"\""
   ]
  },
  {
   "cell_type": "code",
   "execution_count": 300,
   "metadata": {},
   "outputs": [],
   "source": [
    "if not isinstance(embeddings_train, np.ndarray):\n",
    "    embeddings_train = np.array(embeddings_train)\n",
    "\n",
    "if not isinstance(embeddings_test, np.ndarray):\n",
    "    embeddings_test = np.array(embeddings_test)"
   ]
  },
  {
   "cell_type": "code",
   "execution_count": 301,
   "metadata": {},
   "outputs": [
    {
     "data": {
      "text/plain": [
       "array([[ -1.7055386 ,  -3.1910574 ,   5.840725  , ...,   7.177822  ,\n",
       "         -2.860446  ,  -8.658086  ],\n",
       "       [  3.1875327 ,   7.2673125 ,  10.117247  , ...,  20.731285  ,\n",
       "          0.6189734 ,  -8.819734  ],\n",
       "       [  6.7730303 ,   0.2008654 ,  -3.237001  , ...,  -5.3264484 ,\n",
       "         -8.221491  ,  10.008629  ],\n",
       "       ...,\n",
       "       [ -1.3509235 ,  -0.03419232,   3.2369564 , ...,  -4.6609635 ,\n",
       "         -4.1752343 ,  13.211972  ],\n",
       "       [  0.45131055,   2.4122355 ,   1.7833797 , ...,   1.1689043 ,\n",
       "          4.714209  ,  -4.679858  ],\n",
       "       [  1.6744896 ,   2.9815855 ,  -1.1983256 , ..., -11.513319  ,\n",
       "         -9.4208355 ,  11.057816  ]], dtype=float32)"
      ]
     },
     "execution_count": 301,
     "metadata": {},
     "output_type": "execute_result"
    }
   ],
   "source": [
    "embeddings_test"
   ]
  },
  {
   "cell_type": "code",
   "execution_count": 302,
   "metadata": {},
   "outputs": [
    {
     "data": {
      "text/plain": [
       "array([[ -1.7055386 ,  -3.1910574 ,   5.840725  , ...,   7.177822  ,\n",
       "         -2.860446  ,  -8.658086  ],\n",
       "       [  3.1875327 ,   7.2673125 ,  10.117247  , ...,  20.731285  ,\n",
       "          0.6189734 ,  -8.819734  ],\n",
       "       [  6.7730303 ,   0.2008654 ,  -3.237001  , ...,  -5.3264484 ,\n",
       "         -8.221491  ,  10.008629  ],\n",
       "       ...,\n",
       "       [ -1.3509235 ,  -0.03419232,   3.2369564 , ...,  -4.6609635 ,\n",
       "         -4.1752343 ,  13.211972  ],\n",
       "       [  0.45131055,   2.4122355 ,   1.7833797 , ...,   1.1689043 ,\n",
       "          4.714209  ,  -4.679858  ],\n",
       "       [  1.6744896 ,   2.9815855 ,  -1.1983256 , ..., -11.513319  ,\n",
       "         -9.4208355 ,  11.057816  ]], dtype=float32)"
      ]
     },
     "execution_count": 302,
     "metadata": {},
     "output_type": "execute_result"
    }
   ],
   "source": [
    "embeddings_train"
   ]
  },
  {
   "cell_type": "code",
   "execution_count": 303,
   "metadata": {},
   "outputs": [
    {
     "data": {
      "text/plain": [
       "48317"
      ]
     },
     "execution_count": 303,
     "metadata": {},
     "output_type": "execute_result"
    }
   ],
   "source": [
    "len(embeddings_test)"
   ]
  },
  {
   "cell_type": "code",
   "execution_count": 304,
   "metadata": {},
   "outputs": [
    {
     "name": "stdout",
     "output_type": "stream",
     "text": [
      "Are the embeddings the same? False\n"
     ]
    }
   ],
   "source": [
    "# Check if the arrays are the same\n",
    "are_equal = np.array_equal(embeddings_train, embeddings_test)\n",
    "print(\"Are the embeddings the same?\", are_equal)"
   ]
  },
  {
   "cell_type": "code",
   "execution_count": 305,
   "metadata": {},
   "outputs": [],
   "source": [
    "# Z-Score Normalization\n",
    "scaler_z = StandardScaler()\n",
    "embeddings_train_z = scaler_z.fit_transform(embeddings_train)\n",
    "embeddings_test_z = scaler_z.transform(embeddings_test)"
   ]
  },
  {
   "cell_type": "code",
   "execution_count": 306,
   "metadata": {},
   "outputs": [],
   "source": [
    "# Min-Max Normalization\n",
    "scaler_minmax = MinMaxScaler()\n",
    "embeddings_train_minmax = scaler_minmax.fit_transform(embeddings_train)\n",
    "embeddings_test_minmax = scaler_minmax.transform(embeddings_test)"
   ]
  },
  {
   "cell_type": "code",
   "execution_count": 307,
   "metadata": {},
   "outputs": [],
   "source": [
    "# L2 Normalization\n",
    "embeddings_train_l2 = normalize(embeddings_train, norm='l2')\n",
    "embeddings_test_l2 = normalize(embeddings_test, norm='l2')"
   ]
  },
  {
   "cell_type": "code",
   "execution_count": 308,
   "metadata": {},
   "outputs": [],
   "source": [
    "# Convert to DataFrames\n",
    "embeddings_train_z_df = pd.DataFrame(embeddings_train_z, columns=[f\"z_{i}\" for i in range(embeddings_train_z.shape[1])])\n",
    "embeddings_test_z_df = pd.DataFrame(embeddings_test_z, columns=[f\"z_{i}\" for i in range(embeddings_test_z.shape[1])])\n",
    "\n",
    "embeddings_train_minmax_df = pd.DataFrame(embeddings_train_minmax, columns=[f\"minmax_{i}\" for i in range(embeddings_train_minmax.shape[1])])\n",
    "embeddings_test_minmax_df = pd.DataFrame(embeddings_test_minmax, columns=[f\"minmax_{i}\" for i in range(embeddings_test_minmax.shape[1])])\n",
    "\n",
    "embeddings_train_l2_df = pd.DataFrame(embeddings_train_l2, columns=[f\"l2_{i}\" for i in range(embeddings_train_l2.shape[1])])\n",
    "embeddings_test_l2_df = pd.DataFrame(embeddings_test_l2, columns=[f\"l2_{i}\" for i in range(embeddings_test_l2.shape[1])])"
   ]
  },
  {
   "cell_type": "code",
   "execution_count": 309,
   "metadata": {},
   "outputs": [],
   "source": [
    "# Combine all the normalized embeddings into a single DataFrame\n",
    "embeddings_train_combined_df = pd.concat([embeddings_train_z_df, embeddings_train_minmax_df, embeddings_train_l2_df], axis=1)\n",
    "embeddings_test_combined_df = pd.concat([embeddings_test_z_df, embeddings_test_minmax_df, embeddings_test_l2_df], axis=1)\n"
   ]
  },
  {
   "cell_type": "code",
   "execution_count": 310,
   "metadata": {},
   "outputs": [
    {
     "name": "stdout",
     "output_type": "stream",
     "text": [
      "Index(['z_0', 'z_1', 'z_2', 'z_3', 'z_4', 'z_5', 'z_6', 'z_7', 'z_8', 'z_9',\n",
      "       ...\n",
      "       'l2_340', 'l2_341', 'l2_342', 'l2_343', 'l2_344', 'l2_345', 'l2_346',\n",
      "       'l2_347', 'l2_348', 'l2_349'],\n",
      "      dtype='object', length=1050)\n"
     ]
    }
   ],
   "source": [
    "print(embeddings_train_combined_df.columns)\n"
   ]
  },
  {
   "cell_type": "code",
   "execution_count": 311,
   "metadata": {},
   "outputs": [],
   "source": [
    "# Define the column mapping based on the different normalization methods\n",
    "column_mapping = ColumnMapping(\n",
    "    embeddings={\n",
    "        'embeddings_z': [f\"z_{i}\" for i in range(embeddings_train_z_df.shape[1])],\n",
    "        'embeddings_minmax': [f\"minmax_{i}\" for i in range(embeddings_train_minmax_df.shape[1])],\n",
    "        'embeddings_l2': [f\"l2_{i}\" for i in range(embeddings_train_l2_df.shape[1])]\n",
    "    }\n",
    ")\n"
   ]
  },
  {
   "cell_type": "code",
   "execution_count": 312,
   "metadata": {},
   "outputs": [
    {
     "data": {
      "text/plain": [
       "ColumnMapping(target='target', prediction='prediction', datetime='datetime', id=None, numerical_features=None, categorical_features=None, datetime_features=None, target_names=None, task=None, pos_label=1, text_features=None, embeddings={'embeddings_z': ['z_0', 'z_1', 'z_2', 'z_3', 'z_4', 'z_5', 'z_6', 'z_7', 'z_8', 'z_9', 'z_10', 'z_11', 'z_12', 'z_13', 'z_14', 'z_15', 'z_16', 'z_17', 'z_18', 'z_19', 'z_20', 'z_21', 'z_22', 'z_23', 'z_24', 'z_25', 'z_26', 'z_27', 'z_28', 'z_29', 'z_30', 'z_31', 'z_32', 'z_33', 'z_34', 'z_35', 'z_36', 'z_37', 'z_38', 'z_39', 'z_40', 'z_41', 'z_42', 'z_43', 'z_44', 'z_45', 'z_46', 'z_47', 'z_48', 'z_49', 'z_50', 'z_51', 'z_52', 'z_53', 'z_54', 'z_55', 'z_56', 'z_57', 'z_58', 'z_59', 'z_60', 'z_61', 'z_62', 'z_63', 'z_64', 'z_65', 'z_66', 'z_67', 'z_68', 'z_69', 'z_70', 'z_71', 'z_72', 'z_73', 'z_74', 'z_75', 'z_76', 'z_77', 'z_78', 'z_79', 'z_80', 'z_81', 'z_82', 'z_83', 'z_84', 'z_85', 'z_86', 'z_87', 'z_88', 'z_89', 'z_90', 'z_91', 'z_92', 'z_93', 'z_94', 'z_95', 'z_96', 'z_97', 'z_98', 'z_99', 'z_100', 'z_101', 'z_102', 'z_103', 'z_104', 'z_105', 'z_106', 'z_107', 'z_108', 'z_109', 'z_110', 'z_111', 'z_112', 'z_113', 'z_114', 'z_115', 'z_116', 'z_117', 'z_118', 'z_119', 'z_120', 'z_121', 'z_122', 'z_123', 'z_124', 'z_125', 'z_126', 'z_127', 'z_128', 'z_129', 'z_130', 'z_131', 'z_132', 'z_133', 'z_134', 'z_135', 'z_136', 'z_137', 'z_138', 'z_139', 'z_140', 'z_141', 'z_142', 'z_143', 'z_144', 'z_145', 'z_146', 'z_147', 'z_148', 'z_149', 'z_150', 'z_151', 'z_152', 'z_153', 'z_154', 'z_155', 'z_156', 'z_157', 'z_158', 'z_159', 'z_160', 'z_161', 'z_162', 'z_163', 'z_164', 'z_165', 'z_166', 'z_167', 'z_168', 'z_169', 'z_170', 'z_171', 'z_172', 'z_173', 'z_174', 'z_175', 'z_176', 'z_177', 'z_178', 'z_179', 'z_180', 'z_181', 'z_182', 'z_183', 'z_184', 'z_185', 'z_186', 'z_187', 'z_188', 'z_189', 'z_190', 'z_191', 'z_192', 'z_193', 'z_194', 'z_195', 'z_196', 'z_197', 'z_198', 'z_199', 'z_200', 'z_201', 'z_202', 'z_203', 'z_204', 'z_205', 'z_206', 'z_207', 'z_208', 'z_209', 'z_210', 'z_211', 'z_212', 'z_213', 'z_214', 'z_215', 'z_216', 'z_217', 'z_218', 'z_219', 'z_220', 'z_221', 'z_222', 'z_223', 'z_224', 'z_225', 'z_226', 'z_227', 'z_228', 'z_229', 'z_230', 'z_231', 'z_232', 'z_233', 'z_234', 'z_235', 'z_236', 'z_237', 'z_238', 'z_239', 'z_240', 'z_241', 'z_242', 'z_243', 'z_244', 'z_245', 'z_246', 'z_247', 'z_248', 'z_249', 'z_250', 'z_251', 'z_252', 'z_253', 'z_254', 'z_255', 'z_256', 'z_257', 'z_258', 'z_259', 'z_260', 'z_261', 'z_262', 'z_263', 'z_264', 'z_265', 'z_266', 'z_267', 'z_268', 'z_269', 'z_270', 'z_271', 'z_272', 'z_273', 'z_274', 'z_275', 'z_276', 'z_277', 'z_278', 'z_279', 'z_280', 'z_281', 'z_282', 'z_283', 'z_284', 'z_285', 'z_286', 'z_287', 'z_288', 'z_289', 'z_290', 'z_291', 'z_292', 'z_293', 'z_294', 'z_295', 'z_296', 'z_297', 'z_298', 'z_299', 'z_300', 'z_301', 'z_302', 'z_303', 'z_304', 'z_305', 'z_306', 'z_307', 'z_308', 'z_309', 'z_310', 'z_311', 'z_312', 'z_313', 'z_314', 'z_315', 'z_316', 'z_317', 'z_318', 'z_319', 'z_320', 'z_321', 'z_322', 'z_323', 'z_324', 'z_325', 'z_326', 'z_327', 'z_328', 'z_329', 'z_330', 'z_331', 'z_332', 'z_333', 'z_334', 'z_335', 'z_336', 'z_337', 'z_338', 'z_339', 'z_340', 'z_341', 'z_342', 'z_343', 'z_344', 'z_345', 'z_346', 'z_347', 'z_348', 'z_349'], 'embeddings_minmax': ['minmax_0', 'minmax_1', 'minmax_2', 'minmax_3', 'minmax_4', 'minmax_5', 'minmax_6', 'minmax_7', 'minmax_8', 'minmax_9', 'minmax_10', 'minmax_11', 'minmax_12', 'minmax_13', 'minmax_14', 'minmax_15', 'minmax_16', 'minmax_17', 'minmax_18', 'minmax_19', 'minmax_20', 'minmax_21', 'minmax_22', 'minmax_23', 'minmax_24', 'minmax_25', 'minmax_26', 'minmax_27', 'minmax_28', 'minmax_29', 'minmax_30', 'minmax_31', 'minmax_32', 'minmax_33', 'minmax_34', 'minmax_35', 'minmax_36', 'minmax_37', 'minmax_38', 'minmax_39', 'minmax_40', 'minmax_41', 'minmax_42', 'minmax_43', 'minmax_44', 'minmax_45', 'minmax_46', 'minmax_47', 'minmax_48', 'minmax_49', 'minmax_50', 'minmax_51', 'minmax_52', 'minmax_53', 'minmax_54', 'minmax_55', 'minmax_56', 'minmax_57', 'minmax_58', 'minmax_59', 'minmax_60', 'minmax_61', 'minmax_62', 'minmax_63', 'minmax_64', 'minmax_65', 'minmax_66', 'minmax_67', 'minmax_68', 'minmax_69', 'minmax_70', 'minmax_71', 'minmax_72', 'minmax_73', 'minmax_74', 'minmax_75', 'minmax_76', 'minmax_77', 'minmax_78', 'minmax_79', 'minmax_80', 'minmax_81', 'minmax_82', 'minmax_83', 'minmax_84', 'minmax_85', 'minmax_86', 'minmax_87', 'minmax_88', 'minmax_89', 'minmax_90', 'minmax_91', 'minmax_92', 'minmax_93', 'minmax_94', 'minmax_95', 'minmax_96', 'minmax_97', 'minmax_98', 'minmax_99', 'minmax_100', 'minmax_101', 'minmax_102', 'minmax_103', 'minmax_104', 'minmax_105', 'minmax_106', 'minmax_107', 'minmax_108', 'minmax_109', 'minmax_110', 'minmax_111', 'minmax_112', 'minmax_113', 'minmax_114', 'minmax_115', 'minmax_116', 'minmax_117', 'minmax_118', 'minmax_119', 'minmax_120', 'minmax_121', 'minmax_122', 'minmax_123', 'minmax_124', 'minmax_125', 'minmax_126', 'minmax_127', 'minmax_128', 'minmax_129', 'minmax_130', 'minmax_131', 'minmax_132', 'minmax_133', 'minmax_134', 'minmax_135', 'minmax_136', 'minmax_137', 'minmax_138', 'minmax_139', 'minmax_140', 'minmax_141', 'minmax_142', 'minmax_143', 'minmax_144', 'minmax_145', 'minmax_146', 'minmax_147', 'minmax_148', 'minmax_149', 'minmax_150', 'minmax_151', 'minmax_152', 'minmax_153', 'minmax_154', 'minmax_155', 'minmax_156', 'minmax_157', 'minmax_158', 'minmax_159', 'minmax_160', 'minmax_161', 'minmax_162', 'minmax_163', 'minmax_164', 'minmax_165', 'minmax_166', 'minmax_167', 'minmax_168', 'minmax_169', 'minmax_170', 'minmax_171', 'minmax_172', 'minmax_173', 'minmax_174', 'minmax_175', 'minmax_176', 'minmax_177', 'minmax_178', 'minmax_179', 'minmax_180', 'minmax_181', 'minmax_182', 'minmax_183', 'minmax_184', 'minmax_185', 'minmax_186', 'minmax_187', 'minmax_188', 'minmax_189', 'minmax_190', 'minmax_191', 'minmax_192', 'minmax_193', 'minmax_194', 'minmax_195', 'minmax_196', 'minmax_197', 'minmax_198', 'minmax_199', 'minmax_200', 'minmax_201', 'minmax_202', 'minmax_203', 'minmax_204', 'minmax_205', 'minmax_206', 'minmax_207', 'minmax_208', 'minmax_209', 'minmax_210', 'minmax_211', 'minmax_212', 'minmax_213', 'minmax_214', 'minmax_215', 'minmax_216', 'minmax_217', 'minmax_218', 'minmax_219', 'minmax_220', 'minmax_221', 'minmax_222', 'minmax_223', 'minmax_224', 'minmax_225', 'minmax_226', 'minmax_227', 'minmax_228', 'minmax_229', 'minmax_230', 'minmax_231', 'minmax_232', 'minmax_233', 'minmax_234', 'minmax_235', 'minmax_236', 'minmax_237', 'minmax_238', 'minmax_239', 'minmax_240', 'minmax_241', 'minmax_242', 'minmax_243', 'minmax_244', 'minmax_245', 'minmax_246', 'minmax_247', 'minmax_248', 'minmax_249', 'minmax_250', 'minmax_251', 'minmax_252', 'minmax_253', 'minmax_254', 'minmax_255', 'minmax_256', 'minmax_257', 'minmax_258', 'minmax_259', 'minmax_260', 'minmax_261', 'minmax_262', 'minmax_263', 'minmax_264', 'minmax_265', 'minmax_266', 'minmax_267', 'minmax_268', 'minmax_269', 'minmax_270', 'minmax_271', 'minmax_272', 'minmax_273', 'minmax_274', 'minmax_275', 'minmax_276', 'minmax_277', 'minmax_278', 'minmax_279', 'minmax_280', 'minmax_281', 'minmax_282', 'minmax_283', 'minmax_284', 'minmax_285', 'minmax_286', 'minmax_287', 'minmax_288', 'minmax_289', 'minmax_290', 'minmax_291', 'minmax_292', 'minmax_293', 'minmax_294', 'minmax_295', 'minmax_296', 'minmax_297', 'minmax_298', 'minmax_299', 'minmax_300', 'minmax_301', 'minmax_302', 'minmax_303', 'minmax_304', 'minmax_305', 'minmax_306', 'minmax_307', 'minmax_308', 'minmax_309', 'minmax_310', 'minmax_311', 'minmax_312', 'minmax_313', 'minmax_314', 'minmax_315', 'minmax_316', 'minmax_317', 'minmax_318', 'minmax_319', 'minmax_320', 'minmax_321', 'minmax_322', 'minmax_323', 'minmax_324', 'minmax_325', 'minmax_326', 'minmax_327', 'minmax_328', 'minmax_329', 'minmax_330', 'minmax_331', 'minmax_332', 'minmax_333', 'minmax_334', 'minmax_335', 'minmax_336', 'minmax_337', 'minmax_338', 'minmax_339', 'minmax_340', 'minmax_341', 'minmax_342', 'minmax_343', 'minmax_344', 'minmax_345', 'minmax_346', 'minmax_347', 'minmax_348', 'minmax_349'], 'embeddings_l2': ['l2_0', 'l2_1', 'l2_2', 'l2_3', 'l2_4', 'l2_5', 'l2_6', 'l2_7', 'l2_8', 'l2_9', 'l2_10', 'l2_11', 'l2_12', 'l2_13', 'l2_14', 'l2_15', 'l2_16', 'l2_17', 'l2_18', 'l2_19', 'l2_20', 'l2_21', 'l2_22', 'l2_23', 'l2_24', 'l2_25', 'l2_26', 'l2_27', 'l2_28', 'l2_29', 'l2_30', 'l2_31', 'l2_32', 'l2_33', 'l2_34', 'l2_35', 'l2_36', 'l2_37', 'l2_38', 'l2_39', 'l2_40', 'l2_41', 'l2_42', 'l2_43', 'l2_44', 'l2_45', 'l2_46', 'l2_47', 'l2_48', 'l2_49', 'l2_50', 'l2_51', 'l2_52', 'l2_53', 'l2_54', 'l2_55', 'l2_56', 'l2_57', 'l2_58', 'l2_59', 'l2_60', 'l2_61', 'l2_62', 'l2_63', 'l2_64', 'l2_65', 'l2_66', 'l2_67', 'l2_68', 'l2_69', 'l2_70', 'l2_71', 'l2_72', 'l2_73', 'l2_74', 'l2_75', 'l2_76', 'l2_77', 'l2_78', 'l2_79', 'l2_80', 'l2_81', 'l2_82', 'l2_83', 'l2_84', 'l2_85', 'l2_86', 'l2_87', 'l2_88', 'l2_89', 'l2_90', 'l2_91', 'l2_92', 'l2_93', 'l2_94', 'l2_95', 'l2_96', 'l2_97', 'l2_98', 'l2_99', 'l2_100', 'l2_101', 'l2_102', 'l2_103', 'l2_104', 'l2_105', 'l2_106', 'l2_107', 'l2_108', 'l2_109', 'l2_110', 'l2_111', 'l2_112', 'l2_113', 'l2_114', 'l2_115', 'l2_116', 'l2_117', 'l2_118', 'l2_119', 'l2_120', 'l2_121', 'l2_122', 'l2_123', 'l2_124', 'l2_125', 'l2_126', 'l2_127', 'l2_128', 'l2_129', 'l2_130', 'l2_131', 'l2_132', 'l2_133', 'l2_134', 'l2_135', 'l2_136', 'l2_137', 'l2_138', 'l2_139', 'l2_140', 'l2_141', 'l2_142', 'l2_143', 'l2_144', 'l2_145', 'l2_146', 'l2_147', 'l2_148', 'l2_149', 'l2_150', 'l2_151', 'l2_152', 'l2_153', 'l2_154', 'l2_155', 'l2_156', 'l2_157', 'l2_158', 'l2_159', 'l2_160', 'l2_161', 'l2_162', 'l2_163', 'l2_164', 'l2_165', 'l2_166', 'l2_167', 'l2_168', 'l2_169', 'l2_170', 'l2_171', 'l2_172', 'l2_173', 'l2_174', 'l2_175', 'l2_176', 'l2_177', 'l2_178', 'l2_179', 'l2_180', 'l2_181', 'l2_182', 'l2_183', 'l2_184', 'l2_185', 'l2_186', 'l2_187', 'l2_188', 'l2_189', 'l2_190', 'l2_191', 'l2_192', 'l2_193', 'l2_194', 'l2_195', 'l2_196', 'l2_197', 'l2_198', 'l2_199', 'l2_200', 'l2_201', 'l2_202', 'l2_203', 'l2_204', 'l2_205', 'l2_206', 'l2_207', 'l2_208', 'l2_209', 'l2_210', 'l2_211', 'l2_212', 'l2_213', 'l2_214', 'l2_215', 'l2_216', 'l2_217', 'l2_218', 'l2_219', 'l2_220', 'l2_221', 'l2_222', 'l2_223', 'l2_224', 'l2_225', 'l2_226', 'l2_227', 'l2_228', 'l2_229', 'l2_230', 'l2_231', 'l2_232', 'l2_233', 'l2_234', 'l2_235', 'l2_236', 'l2_237', 'l2_238', 'l2_239', 'l2_240', 'l2_241', 'l2_242', 'l2_243', 'l2_244', 'l2_245', 'l2_246', 'l2_247', 'l2_248', 'l2_249', 'l2_250', 'l2_251', 'l2_252', 'l2_253', 'l2_254', 'l2_255', 'l2_256', 'l2_257', 'l2_258', 'l2_259', 'l2_260', 'l2_261', 'l2_262', 'l2_263', 'l2_264', 'l2_265', 'l2_266', 'l2_267', 'l2_268', 'l2_269', 'l2_270', 'l2_271', 'l2_272', 'l2_273', 'l2_274', 'l2_275', 'l2_276', 'l2_277', 'l2_278', 'l2_279', 'l2_280', 'l2_281', 'l2_282', 'l2_283', 'l2_284', 'l2_285', 'l2_286', 'l2_287', 'l2_288', 'l2_289', 'l2_290', 'l2_291', 'l2_292', 'l2_293', 'l2_294', 'l2_295', 'l2_296', 'l2_297', 'l2_298', 'l2_299', 'l2_300', 'l2_301', 'l2_302', 'l2_303', 'l2_304', 'l2_305', 'l2_306', 'l2_307', 'l2_308', 'l2_309', 'l2_310', 'l2_311', 'l2_312', 'l2_313', 'l2_314', 'l2_315', 'l2_316', 'l2_317', 'l2_318', 'l2_319', 'l2_320', 'l2_321', 'l2_322', 'l2_323', 'l2_324', 'l2_325', 'l2_326', 'l2_327', 'l2_328', 'l2_329', 'l2_330', 'l2_331', 'l2_332', 'l2_333', 'l2_334', 'l2_335', 'l2_336', 'l2_337', 'l2_338', 'l2_339', 'l2_340', 'l2_341', 'l2_342', 'l2_343', 'l2_344', 'l2_345', 'l2_346', 'l2_347', 'l2_348', 'l2_349']}, user_id='user_id', item_id='item_id', recommendations_type=<RecomType.SCORE: 'score'>)"
      ]
     },
     "execution_count": 312,
     "metadata": {},
     "output_type": "execute_result"
    }
   ],
   "source": [
    "column_mapping"
   ]
  },
  {
   "cell_type": "code",
   "execution_count": 313,
   "metadata": {},
   "outputs": [
    {
     "data": {
      "text/plain": [
       "' embeddings_drift_metric_distance = EmbeddingsDriftMetric(\\n    \\'embeddings_l2\\',\\n    drift_method = distance(\\n                            dist = \\'euclidean\\', #\"euclidean\", \"cosine\", \"cityblock\" or \"chebyshev\"\\n                            threshold = 0.2,\\n                            pca_components = None,\\n                            bootstrap = None,\\n                            quantile_probability = 0.95\\n                        )\\n) '"
      ]
     },
     "execution_count": 313,
     "metadata": {},
     "output_type": "execute_result"
    }
   ],
   "source": [
    "embeddings_drift_metric_mmd = EmbeddingsDriftMetric(\n",
    "    'embeddings_z',\n",
    "    drift_method = mmd(\n",
    "                            threshold = 0.015,\n",
    "                            bootstrap = None,\n",
    "                            quantile_probability = 0.95,\n",
    "                            pca_components = None,\n",
    "                        )\n",
    ")\n",
    "\n",
    "embeddings_drift_metric_ratio = EmbeddingsDriftMetric(\n",
    "    'embeddings_minmax',\n",
    "    drift_method = ratio(\n",
    "                            component_stattest = 'wasserstein',\n",
    "                            component_stattest_threshold = 0.1,\n",
    "                            threshold = 0.2,\n",
    "                            pca_components = None,\n",
    "                        )\n",
    ") \n",
    "\n",
    "embeddings_drift_metric_model = EmbeddingsDriftMetric(\n",
    "    'embeddings_l2',\n",
    "    drift_method = model(\n",
    "                            threshold = 0.55,\n",
    "                            bootstrap = None,\n",
    "                            quantile_probability = 0.95,\n",
    "                            pca_components = None,\n",
    "                        )\n",
    ") \n",
    "\n",
    "\"\"\" embeddings_drift_metric_distance = EmbeddingsDriftMetric(\n",
    "    'embeddings_l2',\n",
    "    drift_method = distance(\n",
    "                            dist = 'euclidean', #\"euclidean\", \"cosine\", \"cityblock\" or \"chebyshev\"\n",
    "                            threshold = 0.2,\n",
    "                            pca_components = None,\n",
    "                            bootstrap = None,\n",
    "                            quantile_probability = 0.95\n",
    "                        )\n",
    ") \"\"\""
   ]
  },
  {
   "cell_type": "code",
   "execution_count": 314,
   "metadata": {},
   "outputs": [],
   "source": [
    "model_description = f\"\"\"\n",
    "#  Drift detection between {reference_split_name} and {current_split_name}. Normalized\n",
    "\"\"\"\n"
   ]
  },
  {
   "cell_type": "code",
   "execution_count": 315,
   "metadata": {},
   "outputs": [
    {
     "name": "stdout",
     "output_type": "stream",
     "text": [
      "z_0      1.000010\n",
      "z_1      1.000017\n",
      "z_2      1.000019\n",
      "z_3      1.000013\n",
      "z_4      1.000016\n",
      "           ...   \n",
      "z_345    1.000015\n",
      "z_346    1.000017\n",
      "z_347    1.000014\n",
      "z_348    1.000010\n",
      "z_349    1.000027\n",
      "Length: 350, dtype: float32\n"
     ]
    }
   ],
   "source": [
    "print(embeddings_train_z_df.var())\n"
   ]
  },
  {
   "cell_type": "code",
   "execution_count": 316,
   "metadata": {},
   "outputs": [],
   "source": [
    "# Create the report and add the metric\n",
    "report = Report(metrics=[\n",
    "    Comment(model_description),\n",
    "    embeddings_drift_metric_mmd,\n",
    "    embeddings_drift_metric_ratio,\n",
    "    embeddings_drift_metric_model\n",
    "    #embeddings_drift_metric_distance\n",
    "])"
   ]
  },
  {
   "cell_type": "code",
   "execution_count": 317,
   "metadata": {},
   "outputs": [],
   "source": [
    "# Run the report to calculate the drift\n",
    "report.run(reference_data=embeddings_train_combined_df, current_data=embeddings_test_combined_df, column_mapping=column_mapping)"
   ]
  },
  {
   "cell_type": "code",
   "execution_count": 318,
   "metadata": {},
   "outputs": [],
   "source": [
    "# Save the report as HTML\n",
    "path = f\"{full_path}{file_name}\"\n",
    "report.save_html(path)"
   ]
  },
  {
   "cell_type": "code",
   "execution_count": 319,
   "metadata": {},
   "outputs": [],
   "source": [
    "# Extract the results as a dictionary\n",
    "report_json = report.as_dict()"
   ]
  },
  {
   "cell_type": "code",
   "execution_count": 320,
   "metadata": {},
   "outputs": [
    {
     "data": {
      "text/plain": [
       "{'metrics': [{'metric': 'Comment', 'result': {}},\n",
       "  {'metric': 'EmbeddingsDriftMetric',\n",
       "   'result': {'embeddings_name': 'embeddings_z',\n",
       "    'drift_score': 0.003930340277983335,\n",
       "    'drift_detected': False,\n",
       "    'method_name': 'mmd'}},\n",
       "  {'metric': 'EmbeddingsDriftMetric',\n",
       "   'result': {'embeddings_name': 'embeddings_minmax',\n",
       "    'drift_score': 0.7514285714285714,\n",
       "    'drift_detected': True,\n",
       "    'method_name': 'ratio'}},\n",
       "  {'metric': 'EmbeddingsDriftMetric',\n",
       "   'result': {'embeddings_name': 'embeddings_l2',\n",
       "    'drift_score': 0.5472616611614446,\n",
       "    'drift_detected': False,\n",
       "    'method_name': 'model'}}]}"
      ]
     },
     "execution_count": 320,
     "metadata": {},
     "output_type": "execute_result"
    }
   ],
   "source": [
    "report_json"
   ]
  },
  {
   "cell_type": "code",
   "execution_count": 321,
   "metadata": {},
   "outputs": [],
   "source": [
    "# Check if drift was detected\n",
    "mmd_result = report_json['metrics'][1]['result']['drift_detected']\n",
    "ratio_result = report_json['metrics'][2]['result']['drift_detected']\n",
    "model_result = report_json['metrics'][3]['result']['drift_detected']\n",
    "#distance_result = report_json['metrics'][4]['result']['drift_detected']\n",
    "\n"
   ]
  },
  {
   "cell_type": "code",
   "execution_count": 322,
   "metadata": {},
   "outputs": [],
   "source": [
    "run_name_mlf= f\"Drift detection {reference_split_name} vs {current_split_name}\""
   ]
  },
  {
   "cell_type": "code",
   "execution_count": 323,
   "metadata": {},
   "outputs": [
    {
     "data": {
      "text/plain": [
       "' model = load_model(\"/Users/ximenamoure/Desktop/drift_last/models/MobileNetV2_0p5_all.h5\") '"
      ]
     },
     "execution_count": 323,
     "metadata": {},
     "output_type": "execute_result"
    }
   ],
   "source": [
    "\"\"\" model = load_model(\"/Users/ximenamoure/Desktop/drift_last/models/MobileNetV2_0p5_all.h5\") \"\"\""
   ]
  },
  {
   "cell_type": "code",
   "execution_count": 324,
   "metadata": {},
   "outputs": [
    {
     "name": "stdout",
     "output_type": "stream",
     "text": [
      "Drift detection results logged in MLflow.\n"
     ]
    }
   ],
   "source": [
    "# Start an MLflow run\n",
    "with mlflow.start_run(run_name=run_name_mlf):\n",
    "\n",
    "    #mlflow.keras.log_model(model, \"model\")\n",
    "\n",
    "    mlflow.log_param(\"reference_split_name\", reference_split_name)\n",
    "    mlflow.log_param(\"current_split_name\", current_split_name)\n",
    "\n",
    "    # Log whether drift was detected (True/False)\n",
    "    mlflow.log_param(\"mmd_drift_detected\", mmd_result)\n",
    "    mlflow.log_param(\"ratio_drift_detected\", ratio_result)\n",
    "    mlflow.log_param(\"model_drift_detected\", model_result)\n",
    "   #mlflow.log_param(\"distance_drift_detected\", distance_result)\n",
    "\n",
    "    # Log the drift scores if available\n",
    "    mlflow.log_metric(\"mmd_drift_score\", report_json['metrics'][1]['result']['drift_score'])\n",
    "    mlflow.log_metric(\"ratio_drift_score\", report_json['metrics'][2]['result']['drift_score'])\n",
    "    mlflow.log_metric(\"model_drift_score\", report_json['metrics'][3]['result']['drift_score'])\n",
    "    #mlflow.log_metric(\"distance_drift_score\", report_json['metrics'][4]['result']['drift_score'])\n",
    "\n",
    "    # Log the HTML report as an artifact\n",
    "    artifact_path = f\"{full_path}{file_name}\"\n",
    "    mlflow.log_artifact(artifact_path)\n",
    "    \n",
    "    #path = f\"{full_path}{html_path}\"\n",
    "    #mlflow.log_artifact(path)\n",
    "    \n",
    "\n",
    "print(\"Drift detection results logged in MLflow.\")\n",
    "\n"
   ]
  }
 ],
 "metadata": {
  "kernelspec": {
   "display_name": "Python (tensorflow-test-08)",
   "language": "python",
   "name": "tensorflow-test-08"
  },
  "language_info": {
   "codemirror_mode": {
    "name": "ipython",
    "version": 3
   },
   "file_extension": ".py",
   "mimetype": "text/x-python",
   "name": "python",
   "nbconvert_exporter": "python",
   "pygments_lexer": "ipython3",
   "version": "3.8.16"
  }
 },
 "nbformat": 4,
 "nbformat_minor": 2
}
